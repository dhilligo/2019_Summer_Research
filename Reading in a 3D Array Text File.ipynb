{
 "cells": [
  {
   "cell_type": "code",
   "execution_count": 585,
   "metadata": {},
   "outputs": [],
   "source": [
    "#Imports necessary packages\n",
    "\n",
    "import numpy as np"
   ]
  },
  {
   "cell_type": "code",
   "execution_count": 586,
   "metadata": {},
   "outputs": [
    {
     "name": "stderr",
     "output_type": "stream",
     "text": [
      "/anaconda3/lib/python3.6/site-packages/ipykernel_launcher.py:26: VisibleDeprecationWarning: using a non-integer number instead of an integer will result in an error in the future\n",
      "/anaconda3/lib/python3.6/site-packages/ipykernel_launcher.py:29: VisibleDeprecationWarning: using a non-integer number instead of an integer will result in an error in the future\n"
     ]
    }
   ],
   "source": [
    "#Opens the file in read mode\n",
    "f = open('/Users/dylanhilligoss/vh1/2d_Plotting/tdsw_2d2.init','r')\n",
    "\n",
    "#Creates a counter to be used in the future for loop. This counter counts through the file line by line.\n",
    "counter = 0\n",
    "\n",
    "#Reads and splits lines up separately.\n",
    "lines = f.readlines()\n",
    "splitLine = lines[0].split('\\n')\n",
    "\n",
    "#Creates arrays of the split data from a list then turns them into an arrays of floats \n",
    "dum = splitLine[0].split()\n",
    "a_dum = np.asarray(dum)\n",
    "f_dum = a_dum.astype(np.float)\n",
    "\n",
    "#Creates a general expression for the dimensions of the array. \n",
    "n_rad = f_dum[1].astype(np.int)\n",
    "n_phi = f_dum[16].astype(np.int)\n",
    "\n",
    "#print(n_rad,n_phi)\n",
    "\n",
    "#Creates empty header and data arrays with the row dimensions identified above by the column dimensions\n",
    "a_header = np.empty([2*n_phi,17])\n",
    "a_data = np.empty([2*n_phi,n_rad,10])\n",
    "\n",
    "#Runs a for loop over the entire file and turns the list into an array of float values.\n",
    "for line in lines:\n",
    "    splitLine = line.split('\\n')\n",
    "    dum = splitLine[0].split()\n",
    "    a_dum = np.asarray(dum)\n",
    "    f_dum = a_dum.astype(np.float)\n",
    "    \n",
    "    #Decides whether each line in the file will be put into our header array or our data array\n",
    "    #This is based off the position of the line in the file.\n",
    "    if (counter == 0 or counter%(n_rad+1) == 0):\n",
    "        a_header[counter/(n_rad+1),:]=f_dum\n",
    "        counter += 1\n",
    "    else:\n",
    "        a_data[(counter-(counter%(n_rad+1)))/(n_rad+1), counter%(n_rad+1)-1, :] = f_dum\n",
    "        counter += 1 \n",
    "\n",
    "#Closes the file\n",
    "f.close()\n",
    "\n",
    "#print(a_header)\n",
    "#print(a_data)"
   ]
  },
  {
   "cell_type": "code",
   "execution_count": 589,
   "metadata": {},
   "outputs": [],
   "source": [
    "#Test run of above work on a smaller sample size\n",
    "\n",
    "#a = np.empty([3,2])\n",
    "#a[0,:]=np.array([2,3])\n",
    "#a[1,:]=np.array([0,0])\n",
    "#a[2,:]=np.array([1,1])\n",
    "\n",
    "#print(a)\n"
   ]
  },
  {
   "cell_type": "code",
   "execution_count": 588,
   "metadata": {},
   "outputs": [],
   "source": []
  }
 ],
 "metadata": {
  "kernelspec": {
   "display_name": "Python 3",
   "language": "python",
   "name": "python3"
  },
  "language_info": {
   "codemirror_mode": {
    "name": "ipython",
    "version": 3
   },
   "file_extension": ".py",
   "mimetype": "text/x-python",
   "name": "python",
   "nbconvert_exporter": "python",
   "pygments_lexer": "ipython3",
   "version": "3.6.5"
  }
 },
 "nbformat": 4,
 "nbformat_minor": 2
}
